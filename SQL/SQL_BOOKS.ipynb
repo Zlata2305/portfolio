{
 "cells": [
  {
   "cell_type": "code",
   "execution_count": 1,
   "id": "4ec6888a",
   "metadata": {},
   "outputs": [],
   "source": [
    "# импортируем библиотеки\n",
    "import pandas as pd\n",
    "from sqlalchemy import text, create_engine"
   ]
  },
  {
   "cell_type": "code",
   "execution_count": 2,
   "id": "dd8007ea",
   "metadata": {},
   "outputs": [
    {
     "name": "stdout",
     "output_type": "stream",
     "text": [
      "Requirement already satisfied: psycopg2-binary in /opt/conda/lib/python3.9/site-packages (2.9.2)\n",
      "Note: you may need to restart the kernel to use updated packages.\n"
     ]
    }
   ],
   "source": [
    "pip install psycopg2-binary"
   ]
  },
  {
   "cell_type": "code",
   "execution_count": 3,
   "id": "bd478245",
   "metadata": {},
   "outputs": [],
   "source": [
    "# создадим функцию для работы:\n",
    "def init_conn():\n",
    "    # устанавливаем параметры\n",
    "    db_config = {'user': 'praktikum_student', # имя пользователя\n",
    "    'pwd': 'Sdf4$2;d-d30pp', # пароль\n",
    "    'host': 'rc1b-wcoijxj3yxfsf3fs.mdb.yandexcloud.net',\n",
    "    'port': 6432, # порт подключения\n",
    "    'db': 'data-analyst-final-project-db'} # название базы данных\n",
    "    connection_string = 'postgresql://{user}:{pwd}@{host}:{port}/{db}'.format(**db_config)\n",
    "\n",
    "    engine = create_engine(connection_string, connect_args={'sslmode':'require'})\n",
    "    return engine.connect()"
   ]
  },
  {
   "cell_type": "code",
   "execution_count": 4,
   "id": "3433a20e",
   "metadata": {},
   "outputs": [],
   "source": [
    "def runSQL(query):\n",
    "    return pd.io.sql.read_sql(sql=text(query), con = init_conn())"
   ]
  },
  {
   "cell_type": "markdown",
   "id": "182d4c0b",
   "metadata": {},
   "source": [
    "Посмотрим на таблицы:"
   ]
  },
  {
   "cell_type": "code",
   "execution_count": 5,
   "id": "15305011",
   "metadata": {},
   "outputs": [
    {
     "data": {
      "text/html": [
       "<div>\n",
       "<style scoped>\n",
       "    .dataframe tbody tr th:only-of-type {\n",
       "        vertical-align: middle;\n",
       "    }\n",
       "\n",
       "    .dataframe tbody tr th {\n",
       "        vertical-align: top;\n",
       "    }\n",
       "\n",
       "    .dataframe thead th {\n",
       "        text-align: right;\n",
       "    }\n",
       "</style>\n",
       "<table border=\"1\" class=\"dataframe\">\n",
       "  <thead>\n",
       "    <tr style=\"text-align: right;\">\n",
       "      <th></th>\n",
       "      <th>book_id</th>\n",
       "      <th>author_id</th>\n",
       "      <th>title</th>\n",
       "      <th>num_pages</th>\n",
       "      <th>publication_date</th>\n",
       "      <th>publisher_id</th>\n",
       "    </tr>\n",
       "  </thead>\n",
       "  <tbody>\n",
       "    <tr>\n",
       "      <th>0</th>\n",
       "      <td>1</td>\n",
       "      <td>546</td>\n",
       "      <td>'Salem's Lot</td>\n",
       "      <td>594</td>\n",
       "      <td>2005-11-01</td>\n",
       "      <td>93</td>\n",
       "    </tr>\n",
       "    <tr>\n",
       "      <th>1</th>\n",
       "      <td>2</td>\n",
       "      <td>465</td>\n",
       "      <td>1 000 Places to See Before You Die</td>\n",
       "      <td>992</td>\n",
       "      <td>2003-05-22</td>\n",
       "      <td>336</td>\n",
       "    </tr>\n",
       "    <tr>\n",
       "      <th>2</th>\n",
       "      <td>3</td>\n",
       "      <td>407</td>\n",
       "      <td>13 Little Blue Envelopes (Little Blue Envelope...</td>\n",
       "      <td>322</td>\n",
       "      <td>2010-12-21</td>\n",
       "      <td>135</td>\n",
       "    </tr>\n",
       "    <tr>\n",
       "      <th>3</th>\n",
       "      <td>4</td>\n",
       "      <td>82</td>\n",
       "      <td>1491: New Revelations of the Americas Before C...</td>\n",
       "      <td>541</td>\n",
       "      <td>2006-10-10</td>\n",
       "      <td>309</td>\n",
       "    </tr>\n",
       "    <tr>\n",
       "      <th>4</th>\n",
       "      <td>5</td>\n",
       "      <td>125</td>\n",
       "      <td>1776</td>\n",
       "      <td>386</td>\n",
       "      <td>2006-07-04</td>\n",
       "      <td>268</td>\n",
       "    </tr>\n",
       "  </tbody>\n",
       "</table>\n",
       "</div>"
      ],
      "text/plain": [
       "   book_id  author_id                                              title  \\\n",
       "0        1        546                                       'Salem's Lot   \n",
       "1        2        465                 1 000 Places to See Before You Die   \n",
       "2        3        407  13 Little Blue Envelopes (Little Blue Envelope...   \n",
       "3        4         82  1491: New Revelations of the Americas Before C...   \n",
       "4        5        125                                               1776   \n",
       "\n",
       "   num_pages publication_date  publisher_id  \n",
       "0        594       2005-11-01            93  \n",
       "1        992       2003-05-22           336  \n",
       "2        322       2010-12-21           135  \n",
       "3        541       2006-10-10           309  \n",
       "4        386       2006-07-04           268  "
      ]
     },
     "execution_count": 5,
     "metadata": {},
     "output_type": "execute_result"
    }
   ],
   "source": [
    "runSQL('''SELECT * FROM books LIMIT 5''')"
   ]
  },
  {
   "cell_type": "code",
   "execution_count": 6,
   "id": "33226243",
   "metadata": {},
   "outputs": [
    {
     "data": {
      "text/html": [
       "<div>\n",
       "<style scoped>\n",
       "    .dataframe tbody tr th:only-of-type {\n",
       "        vertical-align: middle;\n",
       "    }\n",
       "\n",
       "    .dataframe tbody tr th {\n",
       "        vertical-align: top;\n",
       "    }\n",
       "\n",
       "    .dataframe thead th {\n",
       "        text-align: right;\n",
       "    }\n",
       "</style>\n",
       "<table border=\"1\" class=\"dataframe\">\n",
       "  <thead>\n",
       "    <tr style=\"text-align: right;\">\n",
       "      <th></th>\n",
       "      <th>author_id</th>\n",
       "      <th>author</th>\n",
       "    </tr>\n",
       "  </thead>\n",
       "  <tbody>\n",
       "    <tr>\n",
       "      <th>0</th>\n",
       "      <td>1</td>\n",
       "      <td>A.S. Byatt</td>\n",
       "    </tr>\n",
       "    <tr>\n",
       "      <th>1</th>\n",
       "      <td>2</td>\n",
       "      <td>Aesop/Laura Harris/Laura Gibbs</td>\n",
       "    </tr>\n",
       "    <tr>\n",
       "      <th>2</th>\n",
       "      <td>3</td>\n",
       "      <td>Agatha Christie</td>\n",
       "    </tr>\n",
       "    <tr>\n",
       "      <th>3</th>\n",
       "      <td>4</td>\n",
       "      <td>Alan Brennert</td>\n",
       "    </tr>\n",
       "    <tr>\n",
       "      <th>4</th>\n",
       "      <td>5</td>\n",
       "      <td>Alan Moore/David   Lloyd</td>\n",
       "    </tr>\n",
       "  </tbody>\n",
       "</table>\n",
       "</div>"
      ],
      "text/plain": [
       "   author_id                          author\n",
       "0          1                      A.S. Byatt\n",
       "1          2  Aesop/Laura Harris/Laura Gibbs\n",
       "2          3                 Agatha Christie\n",
       "3          4                   Alan Brennert\n",
       "4          5        Alan Moore/David   Lloyd"
      ]
     },
     "execution_count": 6,
     "metadata": {},
     "output_type": "execute_result"
    }
   ],
   "source": [
    "runSQL('''SELECT * FROM authors LIMIT 5''')"
   ]
  },
  {
   "cell_type": "code",
   "execution_count": 7,
   "id": "39eff316",
   "metadata": {},
   "outputs": [
    {
     "data": {
      "text/html": [
       "<div>\n",
       "<style scoped>\n",
       "    .dataframe tbody tr th:only-of-type {\n",
       "        vertical-align: middle;\n",
       "    }\n",
       "\n",
       "    .dataframe tbody tr th {\n",
       "        vertical-align: top;\n",
       "    }\n",
       "\n",
       "    .dataframe thead th {\n",
       "        text-align: right;\n",
       "    }\n",
       "</style>\n",
       "<table border=\"1\" class=\"dataframe\">\n",
       "  <thead>\n",
       "    <tr style=\"text-align: right;\">\n",
       "      <th></th>\n",
       "      <th>publisher_id</th>\n",
       "      <th>publisher</th>\n",
       "    </tr>\n",
       "  </thead>\n",
       "  <tbody>\n",
       "    <tr>\n",
       "      <th>0</th>\n",
       "      <td>1</td>\n",
       "      <td>Ace</td>\n",
       "    </tr>\n",
       "    <tr>\n",
       "      <th>1</th>\n",
       "      <td>2</td>\n",
       "      <td>Ace Book</td>\n",
       "    </tr>\n",
       "    <tr>\n",
       "      <th>2</th>\n",
       "      <td>3</td>\n",
       "      <td>Ace Books</td>\n",
       "    </tr>\n",
       "    <tr>\n",
       "      <th>3</th>\n",
       "      <td>4</td>\n",
       "      <td>Ace Hardcover</td>\n",
       "    </tr>\n",
       "    <tr>\n",
       "      <th>4</th>\n",
       "      <td>5</td>\n",
       "      <td>Addison Wesley Publishing Company</td>\n",
       "    </tr>\n",
       "  </tbody>\n",
       "</table>\n",
       "</div>"
      ],
      "text/plain": [
       "   publisher_id                          publisher\n",
       "0             1                                Ace\n",
       "1             2                           Ace Book\n",
       "2             3                          Ace Books\n",
       "3             4                      Ace Hardcover\n",
       "4             5  Addison Wesley Publishing Company"
      ]
     },
     "execution_count": 7,
     "metadata": {},
     "output_type": "execute_result"
    }
   ],
   "source": [
    "runSQL('''SELECT * FROM publishers LIMIT 5''')"
   ]
  },
  {
   "cell_type": "code",
   "execution_count": 8,
   "id": "1800415e",
   "metadata": {},
   "outputs": [
    {
     "data": {
      "text/html": [
       "<div>\n",
       "<style scoped>\n",
       "    .dataframe tbody tr th:only-of-type {\n",
       "        vertical-align: middle;\n",
       "    }\n",
       "\n",
       "    .dataframe tbody tr th {\n",
       "        vertical-align: top;\n",
       "    }\n",
       "\n",
       "    .dataframe thead th {\n",
       "        text-align: right;\n",
       "    }\n",
       "</style>\n",
       "<table border=\"1\" class=\"dataframe\">\n",
       "  <thead>\n",
       "    <tr style=\"text-align: right;\">\n",
       "      <th></th>\n",
       "      <th>rating_id</th>\n",
       "      <th>book_id</th>\n",
       "      <th>username</th>\n",
       "      <th>rating</th>\n",
       "    </tr>\n",
       "  </thead>\n",
       "  <tbody>\n",
       "    <tr>\n",
       "      <th>0</th>\n",
       "      <td>1</td>\n",
       "      <td>1</td>\n",
       "      <td>ryanfranco</td>\n",
       "      <td>4</td>\n",
       "    </tr>\n",
       "    <tr>\n",
       "      <th>1</th>\n",
       "      <td>2</td>\n",
       "      <td>1</td>\n",
       "      <td>grantpatricia</td>\n",
       "      <td>2</td>\n",
       "    </tr>\n",
       "    <tr>\n",
       "      <th>2</th>\n",
       "      <td>3</td>\n",
       "      <td>1</td>\n",
       "      <td>brandtandrea</td>\n",
       "      <td>5</td>\n",
       "    </tr>\n",
       "    <tr>\n",
       "      <th>3</th>\n",
       "      <td>4</td>\n",
       "      <td>2</td>\n",
       "      <td>lorichen</td>\n",
       "      <td>3</td>\n",
       "    </tr>\n",
       "    <tr>\n",
       "      <th>4</th>\n",
       "      <td>5</td>\n",
       "      <td>2</td>\n",
       "      <td>mariokeller</td>\n",
       "      <td>2</td>\n",
       "    </tr>\n",
       "  </tbody>\n",
       "</table>\n",
       "</div>"
      ],
      "text/plain": [
       "   rating_id  book_id       username  rating\n",
       "0          1        1     ryanfranco       4\n",
       "1          2        1  grantpatricia       2\n",
       "2          3        1   brandtandrea       5\n",
       "3          4        2       lorichen       3\n",
       "4          5        2    mariokeller       2"
      ]
     },
     "execution_count": 8,
     "metadata": {},
     "output_type": "execute_result"
    }
   ],
   "source": [
    "runSQL('''SELECT * FROM ratings LIMIT 5''')"
   ]
  },
  {
   "cell_type": "code",
   "execution_count": 9,
   "id": "38176fbe",
   "metadata": {},
   "outputs": [
    {
     "data": {
      "text/html": [
       "<div>\n",
       "<style scoped>\n",
       "    .dataframe tbody tr th:only-of-type {\n",
       "        vertical-align: middle;\n",
       "    }\n",
       "\n",
       "    .dataframe tbody tr th {\n",
       "        vertical-align: top;\n",
       "    }\n",
       "\n",
       "    .dataframe thead th {\n",
       "        text-align: right;\n",
       "    }\n",
       "</style>\n",
       "<table border=\"1\" class=\"dataframe\">\n",
       "  <thead>\n",
       "    <tr style=\"text-align: right;\">\n",
       "      <th></th>\n",
       "      <th>review_id</th>\n",
       "      <th>book_id</th>\n",
       "      <th>username</th>\n",
       "      <th>text</th>\n",
       "    </tr>\n",
       "  </thead>\n",
       "  <tbody>\n",
       "    <tr>\n",
       "      <th>0</th>\n",
       "      <td>1</td>\n",
       "      <td>1</td>\n",
       "      <td>brandtandrea</td>\n",
       "      <td>Mention society tell send professor analysis. ...</td>\n",
       "    </tr>\n",
       "    <tr>\n",
       "      <th>1</th>\n",
       "      <td>2</td>\n",
       "      <td>1</td>\n",
       "      <td>ryanfranco</td>\n",
       "      <td>Foot glass pretty audience hit themselves. Amo...</td>\n",
       "    </tr>\n",
       "    <tr>\n",
       "      <th>2</th>\n",
       "      <td>3</td>\n",
       "      <td>2</td>\n",
       "      <td>lorichen</td>\n",
       "      <td>Listen treat keep worry. Miss husband tax but ...</td>\n",
       "    </tr>\n",
       "    <tr>\n",
       "      <th>3</th>\n",
       "      <td>4</td>\n",
       "      <td>3</td>\n",
       "      <td>johnsonamanda</td>\n",
       "      <td>Finally month interesting blue could nature cu...</td>\n",
       "    </tr>\n",
       "    <tr>\n",
       "      <th>4</th>\n",
       "      <td>5</td>\n",
       "      <td>3</td>\n",
       "      <td>scotttamara</td>\n",
       "      <td>Nation purpose heavy give wait song will. List...</td>\n",
       "    </tr>\n",
       "  </tbody>\n",
       "</table>\n",
       "</div>"
      ],
      "text/plain": [
       "   review_id  book_id       username  \\\n",
       "0          1        1   brandtandrea   \n",
       "1          2        1     ryanfranco   \n",
       "2          3        2       lorichen   \n",
       "3          4        3  johnsonamanda   \n",
       "4          5        3    scotttamara   \n",
       "\n",
       "                                                text  \n",
       "0  Mention society tell send professor analysis. ...  \n",
       "1  Foot glass pretty audience hit themselves. Amo...  \n",
       "2  Listen treat keep worry. Miss husband tax but ...  \n",
       "3  Finally month interesting blue could nature cu...  \n",
       "4  Nation purpose heavy give wait song will. List...  "
      ]
     },
     "execution_count": 9,
     "metadata": {},
     "output_type": "execute_result"
    }
   ],
   "source": [
    "runSQL('''SELECT * FROM reviews LIMIT 5''')"
   ]
  },
  {
   "cell_type": "markdown",
   "id": "920e51f8",
   "metadata": {},
   "source": [
    "### Посчитаем, сколько книг вышло после 1 января 2000 года"
   ]
  },
  {
   "cell_type": "code",
   "execution_count": 10,
   "id": "cc3a648b",
   "metadata": {},
   "outputs": [
    {
     "data": {
      "text/html": [
       "<div>\n",
       "<style scoped>\n",
       "    .dataframe tbody tr th:only-of-type {\n",
       "        vertical-align: middle;\n",
       "    }\n",
       "\n",
       "    .dataframe tbody tr th {\n",
       "        vertical-align: top;\n",
       "    }\n",
       "\n",
       "    .dataframe thead th {\n",
       "        text-align: right;\n",
       "    }\n",
       "</style>\n",
       "<table border=\"1\" class=\"dataframe\">\n",
       "  <thead>\n",
       "    <tr style=\"text-align: right;\">\n",
       "      <th></th>\n",
       "      <th>count</th>\n",
       "    </tr>\n",
       "  </thead>\n",
       "  <tbody>\n",
       "    <tr>\n",
       "      <th>0</th>\n",
       "      <td>821</td>\n",
       "    </tr>\n",
       "  </tbody>\n",
       "</table>\n",
       "</div>"
      ],
      "text/plain": [
       "   count\n",
       "0    821"
      ]
     },
     "execution_count": 10,
     "metadata": {},
     "output_type": "execute_result"
    }
   ],
   "source": [
    "runSQL('''SELECT COUNT(book_id) FROM books\n",
    "WHERE publication_date >= '2000-01-01' ''')"
   ]
  },
  {
   "cell_type": "markdown",
   "id": "864ccd2d",
   "metadata": {},
   "source": [
    "#### После 2000 года вышла 821 книга"
   ]
  },
  {
   "cell_type": "markdown",
   "id": "e0d71126",
   "metadata": {},
   "source": [
    "### Для каждой книги посчитаем количество обзоров и среднюю оценку"
   ]
  },
  {
   "cell_type": "code",
   "execution_count": 17,
   "id": "3b788bc1",
   "metadata": {},
   "outputs": [
    {
     "data": {
      "text/html": [
       "<div>\n",
       "<style scoped>\n",
       "    .dataframe tbody tr th:only-of-type {\n",
       "        vertical-align: middle;\n",
       "    }\n",
       "\n",
       "    .dataframe tbody tr th {\n",
       "        vertical-align: top;\n",
       "    }\n",
       "\n",
       "    .dataframe thead th {\n",
       "        text-align: right;\n",
       "    }\n",
       "</style>\n",
       "<table border=\"1\" class=\"dataframe\">\n",
       "  <thead>\n",
       "    <tr style=\"text-align: right;\">\n",
       "      <th></th>\n",
       "      <th>book_id</th>\n",
       "      <th>title</th>\n",
       "      <th>review</th>\n",
       "      <th>avg_rating</th>\n",
       "    </tr>\n",
       "  </thead>\n",
       "  <tbody>\n",
       "    <tr>\n",
       "      <th>0</th>\n",
       "      <td>303</td>\n",
       "      <td>Harvesting the Heart</td>\n",
       "      <td>2</td>\n",
       "      <td>2.0</td>\n",
       "    </tr>\n",
       "    <tr>\n",
       "      <th>1</th>\n",
       "      <td>316</td>\n",
       "      <td>His Excellency: George Washington</td>\n",
       "      <td>2</td>\n",
       "      <td>2.0</td>\n",
       "    </tr>\n",
       "    <tr>\n",
       "      <th>2</th>\n",
       "      <td>371</td>\n",
       "      <td>Junky</td>\n",
       "      <td>2</td>\n",
       "      <td>2.0</td>\n",
       "    </tr>\n",
       "    <tr>\n",
       "      <th>3</th>\n",
       "      <td>915</td>\n",
       "      <td>The World Is Flat: A Brief History of the Twen...</td>\n",
       "      <td>3</td>\n",
       "      <td>2.0</td>\n",
       "    </tr>\n",
       "    <tr>\n",
       "      <th>4</th>\n",
       "      <td>794</td>\n",
       "      <td>The Mermaid Chair</td>\n",
       "      <td>3</td>\n",
       "      <td>2.0</td>\n",
       "    </tr>\n",
       "    <tr>\n",
       "      <th>...</th>\n",
       "      <td>...</td>\n",
       "      <td>...</td>\n",
       "      <td>...</td>\n",
       "      <td>...</td>\n",
       "    </tr>\n",
       "    <tr>\n",
       "      <th>995</th>\n",
       "      <td>423</td>\n",
       "      <td>Maus I: A Survivor's Tale: My Father Bleeds Hi...</td>\n",
       "      <td>4</td>\n",
       "      <td>5.0</td>\n",
       "    </tr>\n",
       "    <tr>\n",
       "      <th>996</th>\n",
       "      <td>203</td>\n",
       "      <td>Drums of Autumn (Outlander  #4)</td>\n",
       "      <td>4</td>\n",
       "      <td>5.0</td>\n",
       "    </tr>\n",
       "    <tr>\n",
       "      <th>997</th>\n",
       "      <td>415</td>\n",
       "      <td>Magic Bites (Kate Daniels  #1)</td>\n",
       "      <td>4</td>\n",
       "      <td>5.0</td>\n",
       "    </tr>\n",
       "    <tr>\n",
       "      <th>998</th>\n",
       "      <td>741</td>\n",
       "      <td>The Green Mile</td>\n",
       "      <td>4</td>\n",
       "      <td>5.0</td>\n",
       "    </tr>\n",
       "    <tr>\n",
       "      <th>999</th>\n",
       "      <td>581</td>\n",
       "      <td>Snow Flower and the Secret Fan</td>\n",
       "      <td>5</td>\n",
       "      <td>5.0</td>\n",
       "    </tr>\n",
       "  </tbody>\n",
       "</table>\n",
       "<p>1000 rows × 4 columns</p>\n",
       "</div>"
      ],
      "text/plain": [
       "     book_id                                              title  review  \\\n",
       "0        303                               Harvesting the Heart       2   \n",
       "1        316                  His Excellency: George Washington       2   \n",
       "2        371                                              Junky       2   \n",
       "3        915  The World Is Flat: A Brief History of the Twen...       3   \n",
       "4        794                                  The Mermaid Chair       3   \n",
       "..       ...                                                ...     ...   \n",
       "995      423  Maus I: A Survivor's Tale: My Father Bleeds Hi...       4   \n",
       "996      203                    Drums of Autumn (Outlander  #4)       4   \n",
       "997      415                     Magic Bites (Kate Daniels  #1)       4   \n",
       "998      741                                     The Green Mile       4   \n",
       "999      581                     Snow Flower and the Secret Fan       5   \n",
       "\n",
       "     avg_rating  \n",
       "0           2.0  \n",
       "1           2.0  \n",
       "2           2.0  \n",
       "3           2.0  \n",
       "4           2.0  \n",
       "..          ...  \n",
       "995         5.0  \n",
       "996         5.0  \n",
       "997         5.0  \n",
       "998         5.0  \n",
       "999         5.0  \n",
       "\n",
       "[1000 rows x 4 columns]"
      ]
     },
     "execution_count": 17,
     "metadata": {},
     "output_type": "execute_result"
    }
   ],
   "source": [
    "runSQL('''SELECT b.book_id, b.title, COUNT(DISTINCT(re.review_id)) AS review, ROUND(AVG(ra.rating)) AS avg_rating FROM books AS b\n",
    "LEFT join reviews as re on b.book_id = re.book_id\n",
    "join ratings as ra on b.book_id = ra.book_id\n",
    "GROUP BY b.book_id\n",
    "ORDER BY avg_rating, review\n",
    "''')"
   ]
  },
  {
   "cell_type": "markdown",
   "id": "632980f5",
   "metadata": {},
   "source": [
    "### Определим издательство, которое выпустило наибольшее число книг толще 50 страниц — так вы исключите из анализа брошюры"
   ]
  },
  {
   "cell_type": "code",
   "execution_count": 12,
   "id": "c3baa5ba",
   "metadata": {},
   "outputs": [
    {
     "data": {
      "text/html": [
       "<div>\n",
       "<style scoped>\n",
       "    .dataframe tbody tr th:only-of-type {\n",
       "        vertical-align: middle;\n",
       "    }\n",
       "\n",
       "    .dataframe tbody tr th {\n",
       "        vertical-align: top;\n",
       "    }\n",
       "\n",
       "    .dataframe thead th {\n",
       "        text-align: right;\n",
       "    }\n",
       "</style>\n",
       "<table border=\"1\" class=\"dataframe\">\n",
       "  <thead>\n",
       "    <tr style=\"text-align: right;\">\n",
       "      <th></th>\n",
       "      <th>publisher</th>\n",
       "      <th>sum_book</th>\n",
       "    </tr>\n",
       "  </thead>\n",
       "  <tbody>\n",
       "    <tr>\n",
       "      <th>0</th>\n",
       "      <td>Penguin Books</td>\n",
       "      <td>42</td>\n",
       "    </tr>\n",
       "  </tbody>\n",
       "</table>\n",
       "</div>"
      ],
      "text/plain": [
       "       publisher  sum_book\n",
       "0  Penguin Books        42"
      ]
     },
     "execution_count": 12,
     "metadata": {},
     "output_type": "execute_result"
    }
   ],
   "source": [
    "runSQL('''SELECT p.publisher, COUNT(b.book_id) AS sum_book FROM books AS b\n",
    "INNER JOIN publishers AS p ON b.publisher_id = p.publisher_id\n",
    "WHERE b.num_pages > 50\n",
    "group by p.publisher\n",
    "order by sum_book DESC\n",
    "LIMIT 1\n",
    "''')"
   ]
  },
  {
   "cell_type": "markdown",
   "id": "bc3825c2",
   "metadata": {},
   "source": [
    "#### Издательство Penguin Books выпустило наибольшее число книг толще 50 страниц"
   ]
  },
  {
   "cell_type": "markdown",
   "id": "f85e8047",
   "metadata": {},
   "source": [
    "### Определите автора с самой высокой средней оценкой книг — учитывайте только книги с 50 и более оценками"
   ]
  },
  {
   "cell_type": "code",
   "execution_count": 13,
   "id": "7d28ce67",
   "metadata": {},
   "outputs": [
    {
     "data": {
      "text/html": [
       "<div>\n",
       "<style scoped>\n",
       "    .dataframe tbody tr th:only-of-type {\n",
       "        vertical-align: middle;\n",
       "    }\n",
       "\n",
       "    .dataframe tbody tr th {\n",
       "        vertical-align: top;\n",
       "    }\n",
       "\n",
       "    .dataframe thead th {\n",
       "        text-align: right;\n",
       "    }\n",
       "</style>\n",
       "<table border=\"1\" class=\"dataframe\">\n",
       "  <thead>\n",
       "    <tr style=\"text-align: right;\">\n",
       "      <th></th>\n",
       "      <th>author</th>\n",
       "      <th>avg_rating</th>\n",
       "    </tr>\n",
       "  </thead>\n",
       "  <tbody>\n",
       "    <tr>\n",
       "      <th>0</th>\n",
       "      <td>J.K. Rowling/Mary GrandPré</td>\n",
       "      <td>4.28</td>\n",
       "    </tr>\n",
       "  </tbody>\n",
       "</table>\n",
       "</div>"
      ],
      "text/plain": [
       "                       author  avg_rating\n",
       "0  J.K. Rowling/Mary GrandPré        4.28"
      ]
     },
     "execution_count": 13,
     "metadata": {},
     "output_type": "execute_result"
    }
   ],
   "source": [
    "runSQL('''SELECT i.author, ROUND(AVG(i.sum_rating),2) as avg_rating\n",
    "FROM\n",
    "  (SELECT a.author, AVG(r.rating) AS sum_rating, b.book_id FROM books AS b\n",
    "INNER JOIN ratings AS r ON b.book_id = r.book_id\n",
    "INNER JOIN author AS a ON b.author_id = a.author_id\n",
    "group by a.author,b.book_id\n",
    "order by sum_rating DESC\n",
    ") AS i\n",
    "RIGHT OUTER JOIN\n",
    "  (SELECT b.book_id , COUNT(ra.rating_id) as rating_count FROM books AS b\n",
    "inner join ratings AS ra ON b.book_id = ra.book_id\n",
    "GROUP BY b.book_id\n",
    "HAVING COUNT(ra.rating_id) > 50\n",
    "ORDER BY COUNT(ra.rating_id)) AS c ON i.book_id = c.book_id\n",
    "GROUP BY author\n",
    "LIMIT 1\n",
    "\n",
    "''')"
   ]
  },
  {
   "cell_type": "markdown",
   "id": "866b165d",
   "metadata": {},
   "source": [
    "#### Самая высокая средняя оценка у книг Роулинг с иллюстрациями Мари Грандпре"
   ]
  },
  {
   "cell_type": "markdown",
   "id": "492065b1",
   "metadata": {},
   "source": [
    "### Посчитайте среднее количество обзоров от пользователей, которые поставили больше 48 оценок."
   ]
  },
  {
   "cell_type": "code",
   "execution_count": 14,
   "id": "4dd02449",
   "metadata": {},
   "outputs": [
    {
     "data": {
      "text/html": [
       "<div>\n",
       "<style scoped>\n",
       "    .dataframe tbody tr th:only-of-type {\n",
       "        vertical-align: middle;\n",
       "    }\n",
       "\n",
       "    .dataframe tbody tr th {\n",
       "        vertical-align: top;\n",
       "    }\n",
       "\n",
       "    .dataframe thead th {\n",
       "        text-align: right;\n",
       "    }\n",
       "</style>\n",
       "<table border=\"1\" class=\"dataframe\">\n",
       "  <thead>\n",
       "    <tr style=\"text-align: right;\">\n",
       "      <th></th>\n",
       "      <th>avg</th>\n",
       "    </tr>\n",
       "  </thead>\n",
       "  <tbody>\n",
       "    <tr>\n",
       "      <th>0</th>\n",
       "      <td>24.0</td>\n",
       "    </tr>\n",
       "  </tbody>\n",
       "</table>\n",
       "</div>"
      ],
      "text/plain": [
       "    avg\n",
       "0  24.0"
      ]
     },
     "execution_count": 14,
     "metadata": {},
     "output_type": "execute_result"
    }
   ],
   "source": [
    "runSQL('''SELECT AVG(R)\n",
    "FROM\n",
    "(SELECT username, COUNT(review_id) AS R\n",
    "FROM reviews\n",
    "WHERE username IN (SELECT username\n",
    "FROM ratings\n",
    "GROUP BY username\n",
    "HAVING COUNT(rating_id) > 48)\n",
    "GROUP BY username) as a; \n",
    "   ''')\n"
   ]
  },
  {
   "cell_type": "markdown",
   "id": "afede216",
   "metadata": {},
   "source": [
    "#### В среднем пользователи с 48 оценками и больше проводят 24 обзора"
   ]
  },
  {
   "cell_type": "markdown",
   "id": "3547631e",
   "metadata": {},
   "source": [
    "## Выводы:  \n",
    "    После 2000 года вышла 821 книга.   \n",
    "    Количество обзоров для книг варьируется от 4 до 55, рейтинг от 2 до 5.   \n",
    "    Издательство Penguin Books выпустило наибольшее число книг толще 50 страниц   \n",
    "    Самая высокая средняя оценка у книг Роулинг отчатси благодаря иллюстрациям Мари Грандпре   \n",
    "    В среднем пользователи с 48 оценками проводят 24 обзора  "
   ]
  }
 ],
 "metadata": {
  "ExecuteTimeLog": [
   {
    "duration": 510,
    "start_time": "2023-05-20T23:00:53.653Z"
   },
   {
    "duration": 2384,
    "start_time": "2023-05-20T23:00:54.165Z"
   },
   {
    "duration": 4,
    "start_time": "2023-05-20T23:00:56.551Z"
   },
   {
    "duration": 16,
    "start_time": "2023-05-20T23:00:56.557Z"
   },
   {
    "duration": 8140,
    "start_time": "2023-05-20T23:00:56.576Z"
   },
   {
    "duration": 40,
    "start_time": "2023-05-20T23:01:04.718Z"
   },
   {
    "duration": 41,
    "start_time": "2023-05-20T23:01:04.760Z"
   },
   {
    "duration": 33,
    "start_time": "2023-05-20T23:01:04.803Z"
   },
   {
    "duration": 40,
    "start_time": "2023-05-20T23:01:04.838Z"
   },
   {
    "duration": 28,
    "start_time": "2023-05-20T23:01:04.879Z"
   },
   {
    "duration": 47,
    "start_time": "2023-05-20T23:01:04.909Z"
   },
   {
    "duration": 46,
    "start_time": "2023-05-20T23:01:04.958Z"
   },
   {
    "duration": 49,
    "start_time": "2023-05-20T23:01:05.006Z"
   },
   {
    "duration": 37,
    "start_time": "2023-05-20T23:01:05.058Z"
   },
   {
    "duration": 52,
    "start_time": "2023-05-20T23:02:08.313Z"
   },
   {
    "duration": 50,
    "start_time": "2023-05-21T06:43:28.540Z"
   },
   {
    "duration": 494,
    "start_time": "2023-05-21T06:43:36.264Z"
   },
   {
    "duration": 2613,
    "start_time": "2023-05-21T06:43:36.760Z"
   },
   {
    "duration": 4,
    "start_time": "2023-05-21T06:43:39.375Z"
   },
   {
    "duration": 273,
    "start_time": "2023-05-21T06:43:39.381Z"
   },
   {
    "duration": 9125,
    "start_time": "2023-05-21T06:43:39.656Z"
   },
   {
    "duration": 220,
    "start_time": "2023-05-21T06:43:48.783Z"
   },
   {
    "duration": 226,
    "start_time": "2023-05-21T06:43:49.005Z"
   },
   {
    "duration": 205,
    "start_time": "2023-05-21T06:43:49.233Z"
   },
   {
    "duration": 216,
    "start_time": "2023-05-21T06:43:49.441Z"
   },
   {
    "duration": 215,
    "start_time": "2023-05-21T06:43:49.660Z"
   },
   {
    "duration": 246,
    "start_time": "2023-05-21T06:43:49.876Z"
   },
   {
    "duration": 220,
    "start_time": "2023-05-21T06:43:50.124Z"
   },
   {
    "duration": 243,
    "start_time": "2023-05-21T06:43:50.346Z"
   },
   {
    "duration": 207,
    "start_time": "2023-05-21T06:43:50.590Z"
   },
   {
    "duration": 264,
    "start_time": "2023-05-21T06:45:39.120Z"
   },
   {
    "duration": 242,
    "start_time": "2023-05-21T06:45:52.298Z"
   },
   {
    "duration": 252,
    "start_time": "2023-05-21T06:46:00.668Z"
   },
   {
    "duration": 257,
    "start_time": "2023-05-21T06:46:09.606Z"
   },
   {
    "duration": 306,
    "start_time": "2023-05-21T06:50:03.962Z"
   },
   {
    "duration": 226,
    "start_time": "2023-05-21T06:50:28.360Z"
   },
   {
    "duration": 213,
    "start_time": "2023-05-21T06:50:58.768Z"
   },
   {
    "duration": 276,
    "start_time": "2023-05-21T06:52:54.076Z"
   },
   {
    "duration": 252,
    "start_time": "2023-05-21T06:53:06.908Z"
   },
   {
    "duration": 251,
    "start_time": "2023-05-21T06:57:14.156Z"
   },
   {
    "duration": 85,
    "start_time": "2023-05-21T06:57:54.289Z"
   },
   {
    "duration": 72,
    "start_time": "2023-05-21T06:57:59.280Z"
   },
   {
    "duration": 223,
    "start_time": "2023-05-21T06:58:04.778Z"
   },
   {
    "duration": 252,
    "start_time": "2023-05-21T06:58:52.952Z"
   },
   {
    "duration": 253,
    "start_time": "2023-05-21T06:59:18.922Z"
   },
   {
    "duration": 228,
    "start_time": "2023-05-21T06:59:41.625Z"
   },
   {
    "duration": 229,
    "start_time": "2023-05-21T07:00:12.815Z"
   },
   {
    "duration": 242,
    "start_time": "2023-05-21T07:00:33.472Z"
   },
   {
    "duration": 255,
    "start_time": "2023-05-21T07:03:16.606Z"
   },
   {
    "duration": 249,
    "start_time": "2023-05-21T07:04:14.964Z"
   },
   {
    "duration": 261,
    "start_time": "2023-05-21T07:04:30.101Z"
   },
   {
    "duration": 114,
    "start_time": "2023-05-21T07:05:31.216Z"
   },
   {
    "duration": 257,
    "start_time": "2023-05-21T07:05:45.721Z"
   },
   {
    "duration": 246,
    "start_time": "2023-05-21T07:05:53.315Z"
   },
   {
    "duration": 101,
    "start_time": "2023-05-21T07:06:16.920Z"
   },
   {
    "duration": 554,
    "start_time": "2023-05-21T21:59:01.919Z"
   },
   {
    "duration": 2603,
    "start_time": "2023-05-21T21:59:02.475Z"
   },
   {
    "duration": 4,
    "start_time": "2023-05-21T21:59:05.081Z"
   },
   {
    "duration": 17,
    "start_time": "2023-05-21T21:59:05.087Z"
   },
   {
    "duration": 5168,
    "start_time": "2023-05-21T21:59:05.106Z"
   },
   {
    "duration": 234,
    "start_time": "2023-05-21T21:59:10.277Z"
   },
   {
    "duration": 230,
    "start_time": "2023-05-21T21:59:10.513Z"
   },
   {
    "duration": 238,
    "start_time": "2023-05-21T21:59:10.745Z"
   },
   {
    "duration": 256,
    "start_time": "2023-05-21T21:59:10.985Z"
   },
   {
    "duration": 222,
    "start_time": "2023-05-21T21:59:11.242Z"
   },
   {
    "duration": 271,
    "start_time": "2023-05-21T21:59:11.466Z"
   },
   {
    "duration": 266,
    "start_time": "2023-05-21T21:59:11.739Z"
   },
   {
    "duration": 246,
    "start_time": "2023-05-21T21:59:12.007Z"
   },
   {
    "duration": 253,
    "start_time": "2023-05-21T21:59:12.257Z"
   },
   {
    "duration": 607,
    "start_time": "2023-05-21T21:59:26.157Z"
   },
   {
    "duration": 2382,
    "start_time": "2023-05-21T21:59:26.767Z"
   },
   {
    "duration": 4,
    "start_time": "2023-05-21T21:59:29.151Z"
   },
   {
    "duration": 20,
    "start_time": "2023-05-21T21:59:29.157Z"
   },
   {
    "duration": 5040,
    "start_time": "2023-05-21T21:59:29.180Z"
   },
   {
    "duration": 237,
    "start_time": "2023-05-21T21:59:34.221Z"
   },
   {
    "duration": 244,
    "start_time": "2023-05-21T21:59:34.460Z"
   },
   {
    "duration": 234,
    "start_time": "2023-05-21T21:59:34.706Z"
   },
   {
    "duration": 225,
    "start_time": "2023-05-21T21:59:34.943Z"
   },
   {
    "duration": 228,
    "start_time": "2023-05-21T21:59:35.170Z"
   },
   {
    "duration": 285,
    "start_time": "2023-05-21T21:59:35.401Z"
   },
   {
    "duration": 243,
    "start_time": "2023-05-21T21:59:35.688Z"
   },
   {
    "duration": 245,
    "start_time": "2023-05-21T21:59:35.933Z"
   },
   {
    "duration": 270,
    "start_time": "2023-05-21T21:59:36.182Z"
   },
   {
    "duration": 74,
    "start_time": "2023-05-22T04:59:04.449Z"
   },
   {
    "duration": 531,
    "start_time": "2023-05-22T04:59:12.060Z"
   },
   {
    "duration": 2628,
    "start_time": "2023-05-22T04:59:12.593Z"
   },
   {
    "duration": 4,
    "start_time": "2023-05-22T04:59:15.224Z"
   },
   {
    "duration": 34,
    "start_time": "2023-05-22T04:59:15.230Z"
   },
   {
    "duration": 8659,
    "start_time": "2023-05-22T04:59:15.267Z"
   },
   {
    "duration": 212,
    "start_time": "2023-05-22T04:59:23.928Z"
   },
   {
    "duration": 202,
    "start_time": "2023-05-22T04:59:24.143Z"
   },
   {
    "duration": 225,
    "start_time": "2023-05-22T04:59:24.347Z"
   },
   {
    "duration": 210,
    "start_time": "2023-05-22T04:59:24.574Z"
   },
   {
    "duration": 222,
    "start_time": "2023-05-22T04:59:24.786Z"
   },
   {
    "duration": 249,
    "start_time": "2023-05-22T04:59:25.011Z"
   },
   {
    "duration": 232,
    "start_time": "2023-05-22T04:59:25.263Z"
   },
   {
    "duration": 217,
    "start_time": "2023-05-22T04:59:25.497Z"
   },
   {
    "duration": 205,
    "start_time": "2023-05-22T04:59:25.717Z"
   },
   {
    "duration": 238,
    "start_time": "2023-05-22T04:59:40.103Z"
   },
   {
    "duration": 255,
    "start_time": "2023-05-22T04:59:44.630Z"
   },
   {
    "duration": 279,
    "start_time": "2023-05-22T04:59:52.888Z"
   },
   {
    "duration": 82,
    "start_time": "2023-05-22T05:00:11.848Z"
   }
  ],
  "kernelspec": {
   "display_name": "Python 3 (ipykernel)",
   "language": "python",
   "name": "python3"
  },
  "language_info": {
   "codemirror_mode": {
    "name": "ipython",
    "version": 3
   },
   "file_extension": ".py",
   "mimetype": "text/x-python",
   "name": "python",
   "nbconvert_exporter": "python",
   "pygments_lexer": "ipython3",
   "version": "3.9.12"
  },
  "toc": {
   "base_numbering": 1,
   "nav_menu": {},
   "number_sections": true,
   "sideBar": true,
   "skip_h1_title": true,
   "title_cell": "Table of Contents",
   "title_sidebar": "Contents",
   "toc_cell": false,
   "toc_position": {},
   "toc_section_display": true,
   "toc_window_display": true
  }
 },
 "nbformat": 4,
 "nbformat_minor": 5
}
